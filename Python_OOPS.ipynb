{
  "nbformat": 4,
  "nbformat_minor": 0,
  "metadata": {
    "colab": {
      "provenance": []
    },
    "kernelspec": {
      "name": "python3",
      "display_name": "Python 3"
    },
    "language_info": {
      "name": "python"
    }
  },
  "cells": [
    {
      "cell_type": "markdown",
      "source": [
        "# Python OOPS"
      ],
      "metadata": {
        "id": "eFZQDiiysgQl"
      }
    },
    {
      "cell_type": "markdown",
      "source": [
        "# Questions"
      ],
      "metadata": {
        "id": "4bpNskgNsYDx"
      }
    },
    {
      "cell_type": "markdown",
      "source": [
        "Q1. What is Object-Oriented Programming (OOP)?\n",
        "- Object-Oriented Programming (OOP) is a programming paradigm based on the concept of “objects”, which are instances of classes. It helps organize and structure code in a modular, reusable, and scalable way.\n",
        "- Key Concepts of OOP:\n",
        "  - Class\n",
        "  - Object\n",
        "  - Encapsulation\n",
        "  - Inheritance\n",
        "  - Polymorphism\n",
        "  - Abstraction"
      ],
      "metadata": {
        "id": "VXosdVT9sdTe"
      }
    },
    {
      "cell_type": "markdown",
      "source": [
        "Q2.  What is a class in OOP?\n",
        "- A class is a blueprint or template for creating objects. It defines attributes (data) and methods (functions) that the objects created from the class will have.\n",
        "  - __init__: Constructor method that initializes an object’s attributes when it's created.\n",
        "  - self: Refers to the instance of the class."
      ],
      "metadata": {
        "id": "ihRvoMr7sqgm"
      }
    },
    {
      "cell_type": "markdown",
      "source": [
        "Q3. What is an object in OOP?\n",
        "- An object is an instance of a class — it's the actual thing created using the blueprint (class), and it contains real values for the attributes defined by the class."
      ],
      "metadata": {
        "id": "WXqdNFo3yILu"
      }
    },
    {
      "cell_type": "markdown",
      "source": [
        "Q4. What is the difference between abstraction and encapsulation?\n",
        "- Abstraction:\n",
        "- Hides complex internal logic and shows only essential features.\n",
        "- Helps in reducing complexity and improving code clarity.\n",
        "- Focuses on what an object does, not how it does it.\n",
        "- Achieved using abstract classes or interfaces (in Python, via abstract base classes or method overriding).\n",
        "- Example:\n",
        "  - A start() method in a Car class hides the actual logic of starting the engine.\n",
        "  - The user just calls car.start() without knowing the internal mechanism.\n",
        "- Encapsulation:\n",
        "- Wraps data and methods together as a single unit.\n",
        "- Restricts direct access to data by using private/protected attributes.\n",
        "- Focuses on how data is stored and protected from external access.\n",
        "- Achieved using access modifiers (e.g., _protected, __private) and getter/setter methods.\n",
        "- Example:\n",
        "  - A Person class with __age as a private attribute.\n",
        "  - Accessed or modified only through get_age() and set_age() methods."
      ],
      "metadata": {
        "id": "TXql9DMoydLn"
      }
    },
    {
      "cell_type": "markdown",
      "source": [
        "Q5. What are dunder methods in Python?\n",
        "- Dunder = \"Double UNDERSCORE\" (e.g., __init__, __str__)\n",
        "- Also called magic methods or special methods\n",
        "- Used to define custom behavior for built-in operations and functions\n",
        "- All dunder methods start and end with double underscores: __method__\n",
        "- Integrates your custom class with Python's native features (e.g., +, len(), print())\n",
        "- Makes your objects behave like built-in types\n",
        "- Improves readability and usability of your classes\n",
        "- Common Dunder Methods & Their Purpose\n",
        "  - __init__(self, ...) → Constructor; called when an object is created\n",
        "  - __str__(self) → Returns a readable string for print(obj)\n",
        "  - __repr__(self) → Returns an unambiguous string (used in debugging)\n",
        "  - __len__(self) → Called by len(obj)\n",
        "  - __add__(self, other) → Defines behavior for obj1 + obj2\n",
        "  - __eq__(self, other) → Defines behavior for obj1 == obj2\n",
        "  - __getitem__(self, key) → Called when using obj[key] indexing"
      ],
      "metadata": {
        "id": "SNcd5y9nzNH-"
      }
    },
    {
      "cell_type": "markdown",
      "source": [
        "Q6. Explain the concept of inheritance in OOP?\n",
        "- Inheritance is an OOP concept where a class (called the child or subclass) inherits properties and behaviors (attributes and methods) from another class (called the parent or superclass).It promotes code reuse, extensibility, and a hierarchical structure.\n",
        "- Key Points:\n",
        "  - The child class gets all the features of the parent class.\n",
        "  - You can override or extend the functionality in the child class.\n",
        "  - Helps you avoid writing duplicate code.\n",
        "- Types of Inheritance in Python:\n",
        "  - Single Inheritance – One child inherits from one parent\n",
        "  - Multiple Inheritance – One child inherits from multiple parents\n",
        "  - Multilevel Inheritance – A class inherits from a class which itself inherits from another\n",
        "  - Hierarchical Inheritance – Multiple children inherit from one parent\n",
        "  - Hybrid Inheritance – Combination of two or more types"
      ],
      "metadata": {
        "id": "_nOPkcFh0DHu"
      }
    },
    {
      "cell_type": "markdown",
      "source": [
        "Q7. What is polymorphism in OOP?\n",
        "- Polymorphism means \"many forms.\"\n",
        "  - In OOP, it allows different classes to define methods with the same name but with different behavior, depending on the object calling it.\n",
        "    - Same method name → Different behavior\n",
        "    - Promotes flexibility and extensibility in code\n",
        "- Types of Polymorphism:\n",
        "  - Compile-Time Polymorphism (a.k.a. Method Overloading)\n",
        "    - Python doesn’t support this traditionally, but can be mimicked.\n",
        "  - Run-Time Polymorphism (a.k.a. Method Overriding)\n",
        "    - A subclass provides its own version of a method inherited from a parent class."
      ],
      "metadata": {
        "id": "nPsSB4OR048f"
      }
    },
    {
      "cell_type": "markdown",
      "source": [
        "Q8. How is encapsulation achieved in Python?\n",
        "- Encapsulation is the OOP principle of hiding internal data and restricting direct access to it.\n",
        "- In Python, encapsulation is achieved using:\n",
        "- Using access modifiers:\n",
        "  - public → No underscore (e.g., self.name) → Accessible from anywhere.\n",
        "  - _protected → Single underscore (e.g., self._name) → Intended for internal use.\n",
        "  - __private → Double underscore (e.g., self.__age) → Name mangled to prevent direct access.\n",
        "- Using getter and setter methods:\n",
        "  - Provide controlled access to private data.\n",
        "  - Useful for validation or logic before setting/getting values."
      ],
      "metadata": {
        "id": "rzKwwOkG1pY-"
      }
    },
    {
      "cell_type": "markdown",
      "source": [
        "Q9. What is a constructor in Python?\n",
        "- A constructor in Python is a special method used to initialize an object when it is created from a class.\n",
        "- Key Points:\n",
        "  - In Python, the constructor is defined using the __init__() method.\n",
        "  - It is automatically called when a new object is created.\n",
        "  - Used to assign initial values to object properties (attributes)."
      ],
      "metadata": {
        "id": "QCFYw8Ow2gQQ"
      }
    },
    {
      "cell_type": "markdown",
      "source": [
        "Q10. What are class and static methods in Python?\n",
        "- In addition to regular instance methods, Python allows you to define:\n",
        "  - Class Methods (access the class itself)\n",
        "  - Static Methods (utility functions not tied to class or instance)\n",
        "- Class Methods-\n",
        "  - Defined using the @classmethod decorator.\n",
        "  - First argument is cls (refers to the class, not the instance).\n",
        "  - Can access or modify class-level data.\n",
        "  - Useful for alternative constructors or class-wide operations.\n",
        "- Static Methods-\n",
        "  - Defined using the @staticmethod decorator.\n",
        "  - Doesn’t take self or cls as first parameter.\n",
        "  - Cannot access or modify instance or class-level data.\n",
        "  - Used for utility/helper functions that are logically related to the class."
      ],
      "metadata": {
        "id": "ZO-Lx8d_3UNf"
      }
    },
    {
      "cell_type": "markdown",
      "source": [
        "Q11. What is method overloading in Python?\n",
        "- Method overloading means having multiple methods with the same name but different arguments (number or type). It allows a class to perform different tasks depending on how the method is called.\n",
        "- In Python:\n",
        "- Python does NOT support traditional method overloading like Java or C++.\n",
        "- If you define a method multiple times with the same name, only the last one is kept.\n",
        "- But you can simulate overloading using:\n",
        "  - default arguments\n",
        "  - *args and **kwargs\n",
        "  - type checking (optional)"
      ],
      "metadata": {
        "id": "tqMvSZkX33B2"
      }
    },
    {
      "cell_type": "markdown",
      "source": [
        "Q12. What is method overriding in OOP?\n",
        "- Method overriding is when a child class defines a method with the same name as a method in its parent class, and provides a new implementation.\n",
        "- Key Concepts:\n",
        "  - Allows a subclass to customize or replace behavior inherited from a parent class.\n",
        "  - The overridden method in the child class replaces the parent’s version when called from a child object.\n",
        "  - Achieved through inheritance.\n",
        "- Key Points:\n",
        "  - Method overriding occurs in a subclass.\n",
        "  - The method has the same name and parameters as in the parent class.\n",
        "  - The subclass's method replaces the parent class's version for that object.\n",
        "  - Enables runtime polymorphism.\n",
        "  - Promotes custom behavior for specific subclasses."
      ],
      "metadata": {
        "id": "T6MBYA8l4XVV"
      }
    },
    {
      "cell_type": "markdown",
      "source": [
        "Q13. What is a property decorator in Python?\n",
        "- The @property decorator in Python is used to define a method as a \"getter\" for a class attribute — allowing you to access it like a variable while keeping the ability to include logic.\n",
        "- Why Use @property?\n",
        "  - Allows you to control access to private attributes.\n",
        "  - Makes method calls look like attribute access (obj.attr instead of obj.get_attr()).\n",
        "  - Helps with encapsulation and clean syntax."
      ],
      "metadata": {
        "id": "i-uwj15z6TVG"
      }
    },
    {
      "cell_type": "markdown",
      "source": [
        "Q14. Why is polymorphism important in OOP?\n",
        "- Polymorphism (meaning \"many forms\") is a core concept in Object-Oriented Programming (OOP) that allows the same method or interface to behave differently depending on the object that uses it\n",
        "- Importance of Polymorphism –\n",
        "  - Improves Code Flexibility\n",
        "    - You can write generic code that works with different object types.\n",
        "    - No need to know the exact class of the object.\n",
        "  - Enables Method Overriding\n",
        "    - Allows child classes to define their own behavior for inherited methods.\n",
        "    - Example: Dog.speak() and Cat.speak() override Animal.speak().\n",
        "  - Supports Runtime Behavior Change\n",
        "    - Python decides at runtime which version of a method to call.\n",
        "    - Enables dynamic and flexible systems.\n",
        "  - Enhances Readability and Maintainability\n",
        "    - Reduces if-else conditions by relying on object behavior.\n",
        "    - Makes code easier to understand and extend.\n",
        "  - Encourages Reusability\n",
        "    - You can reuse the same function or method for different object types.\n",
        "  - Foundation for Interface-Based Design\n",
        "    - Enables the use of abstract base classes or interfaces to enforce consistent method signatures."
      ],
      "metadata": {
        "id": "POn9qkR26uWP"
      }
    },
    {
      "cell_type": "markdown",
      "source": [
        "Q15. What is an abstract class in Python?\n",
        "- An abstract class in Python is a class that cannot be instantiated directly and is meant to be inherited by other classes.\n",
        "- It defines a common interface (structure) but may leave some methods unimplemented — forcing child classes to provide their own versions.\n",
        "- Key Points:\n",
        "  - Defined using the abc module (abc = Abstract Base Classes).\n",
        "  - An abstract class can have:\n",
        "  - Concrete methods (fully implemented)\n",
        "  - Abstract methods (declared but not implemented)\n",
        "  - Abstract methods are marked with the @abstractmethod decorator.\n",
        "  - You cannot create an object from an abstract class.\n",
        "  - Used to enforce a common interface across multiple subclasses.\n",
        "- Why Use Abstract Classes?\n",
        "  - To create a common base/interface for related classes\n",
        "  - To ensure certain methods must be implemented by child classes\n",
        "  - To support polymorphism and code consistency"
      ],
      "metadata": {
        "id": "OVICL_tB7py_"
      }
    },
    {
      "cell_type": "markdown",
      "source": [
        "Q16. What are the advantages of OOP?\n",
        "- Object-Oriented Programming offers a structured and scalable way to write code, especially for large and complex systems.\n",
        "- Key Advantages:\n",
        "  1. Modularity\n",
        "    - Code is organized into classes and objects.\n",
        "    - Each class handles a specific part of the program, making it easier to manage.\n",
        "  2. Reusability\n",
        "    - Use inheritance to reuse code from existing classes.\n",
        "    - Write once, use many times across different projects or parts of the same app.\n",
        "  3. Scalability and Maintainability\n",
        "    - Easier to update, fix, or expand parts of the program without affecting unrelated sections.\n",
        "    - Changes in one class don’t break the whole system.\n",
        "  4. Encapsulation\n",
        "    - Keeps data safe and secure inside objects.\n",
        "    - Prevents accidental modifications by restricting access to internal attributes.\n",
        "  5. Abstraction\n",
        "    - Hides complex logic and exposes only what’s necessary.\n",
        "    - Helps developers focus on “what” an object does, not “how” it does it.\n",
        "  6. Polymorphism\n",
        "    - Write flexible and dynamic code using the same interface with different implementations.\n",
        "    - Supports runtime decisions and simplifies code structure.\n",
        "  7. Real-world Modeling\n",
        "    - Mimics real-world entities (like Car, Employee, Account) as software objects.\n",
        "    - Makes code more intuitive and easier to relate to real problems.\n",
        "  8. Improved Collaboration\n",
        "    - OOP makes it easier for teams to work in parallel on different classes or modules.\n",
        "    - Promotes cleaner architecture and team-based development."
      ],
      "metadata": {
        "id": "QqbC_02t8Eju"
      }
    },
    {
      "cell_type": "markdown",
      "source": [
        "Q17. What is the difference between a class variable and an instance variable?\n",
        "- In Object-Oriented Programming (OOP), especially in Python, variables defined inside a class can be of two types: class variables and instance variables.\n",
        "  1. Class Variable\n",
        "    - Belongs to the class, not to any one object.\n",
        "    - Shared by all instances of the class.\n",
        "    - Defined outside any method, directly under the class.\n",
        "  2. Instance Variable\n",
        "    - Belongs to the object (instance) of the class.\n",
        "    - Each object has its own copy of instance variables.\n",
        "    - Defined using self inside the constructor or other instance methods."
      ],
      "metadata": {
        "id": "KfIPS0MO9OCv"
      }
    },
    {
      "cell_type": "markdown",
      "source": [
        "Q18. What is multiple inheritance in Python?\n",
        "- Multiple Inheritance is a feature in Python where a class can inherit from more than one parent class.\n",
        "This means the child class gains properties and behaviors (methods and attributes) from multiple base classes.\n",
        "- Key Concept:\n",
        "  - Child class = Combines features of multiple parents\n",
        "  - Python supports multiple inheritance natively\n",
        "  - Can lead to the Diamond Problem (solved using MRO – Method Resolution Order)\n",
        "- Method Resolution Order (MRO)\n",
        "  - Python uses the C3 Linearization Algorithm to decide which method to call if multiple parents have the same method name.\n",
        "- Benefits:\n",
        "  - Combines functionality from multiple classes\n",
        "  - Promotes code reuse and modular design\n",
        "- Drawbacks:\n",
        "  - Can become confusing if many classes have overlapping methods\n",
        "  - Risk of Diamond Problem (resolved using MRO in Python)"
      ],
      "metadata": {
        "id": "8f54Kxp-927G"
      }
    },
    {
      "cell_type": "markdown",
      "source": [
        "Q19. Explain the purpose of ‘’__str__’ and ‘__repr__’ ‘ methods in Python.\n",
        "- Both __str__() and __repr__() are dunder methods (i.e., special methods with double underscores) used to define string representations of objects. They control how your objects appear when printed or logged.\n",
        "  1. __str__() – User-Friendly Display\n",
        "    - Called by the built-in print() function.\n",
        "    - Should return a readable, nicely formatted string for end-users.\n",
        "  2. __repr__() – Developer-Friendly Display\n",
        "    - Called by the built-in repr() function and the interactive interpreter.\n",
        "    - Should return a precise and unambiguous string, often used for debugging.\n",
        "    - Ideally, it should be something that could recreate the object (if possible)."
      ],
      "metadata": {
        "id": "jJFH7fC8-xsl"
      }
    },
    {
      "cell_type": "markdown",
      "source": [
        "Q20. What is the significance of the ‘super()’ function in Python?\n",
        "- The super() function is used to call methods from a parent (superclass) in a child (subclass) — especially when you're working with inheritance.\n",
        "- Key Purposes of super():\n",
        "  1. Access Parent Class Methods\n",
        "    - Allows the child class to reuse methods/constructors from the parent class.\n",
        "    - Useful in method overriding, where the child wants to extend the parent’s behavior.\n",
        "  2. Avoid Hardcoding Parent Class Name\n",
        "    - super() works dynamically, supporting easier maintenance and multiple inheritance.\n",
        "  3. Supports Multiple Inheritance\n",
        "    - Ensures methods are resolved using Method Resolution Order (MRO).\n",
        "    - Prevents duplicate calls or skipped base classes in complex inheritance hierarchies.\n",
        "- When to Use super()\n",
        "  - In constructors (__init__) to initialize parent attributes\n",
        "  - In overridden methods to add or extend parent behavior\n",
        "  - In multiple inheritance to ensure consistent method resolution"
      ],
      "metadata": {
        "id": "e4mQXF1Q_3YW"
      }
    },
    {
      "cell_type": "markdown",
      "source": [
        "Q21. What is the significance of the __del__ method in Python?\n",
        "- The __del__() method in Python is a special (dunder) method called when an object is about to be destroyed, i.e., just before it is garbage collected.\n",
        "- Purpose of __del__():\n",
        "  1. Destructor Method\n",
        "    - Acts as a destructor — the opposite of __init__().\n",
        "    - Cleans up resources like open files, network connections, or database cursors.\n",
        "  2. Automatically Invoked\n",
        "    - Called automatically when an object’s reference count drops to zero.\n",
        "    - Useful for final cleanup logic before the object is removed from memory.\n",
        "  3. Not Commonly Needed\n",
        "    - Python uses a garbage collector, so manual cleanup via __del__() is rarely necessary.\n",
        "    - Prefer using with statements (context managers) for managing resources safely.\n",
        "- Important Notes:\n",
        "  - __del__() is not guaranteed to be called immediately after del.\n",
        "  - If there are circular references, the object may not be deleted right away.\n",
        "  - Exceptions in __del__() are ignored silently, which can hide bugs.\n",
        "- Best Practices:\n",
        "  - Use __del__() only when truly needed for cleanup.\n",
        "  - If you need more control, use __enter__ and __exit__ with context managers."
      ],
      "metadata": {
        "id": "g4UMj0eVArF2"
      }
    },
    {
      "cell_type": "markdown",
      "source": [
        "Q22. What is the difference between @staticmethod and @classmethod in Python?\n",
        "- Both @staticmethod and @classmethod are decorators used to define methods that don't behave like regular instance methods, but they have different use cases and behaviors.\n",
        "  1. @staticmethod:\n",
        "    - Defined using the @staticmethod decorator.\n",
        "    - Does not take self or cls as the first parameter.\n",
        "    - Cannot access instance (self) or class (cls) data.\n",
        "    - Behaves like a regular function placed inside a class for logical grouping.\n",
        "    - Used for utility/helper methods that don't depend on class or instance.\n",
        "    - Can be called via the class or an instance: ClassName.method() or obj.method().\n",
        "  2. @classmethod:\n",
        "    - Defined using the @classmethod decorator.\n",
        "    - Takes cls as the first parameter, referring to the class itself.\n",
        "    - Can access and modify class-level variables.\n",
        "    - Cannot access instance (self) variables.\n",
        "    - Used to create alternative constructors or modify class-wide state.\n",
        "    - Inherits behavior properly in subclasses (respects Method Resolution Order)."
      ],
      "metadata": {
        "id": "8HaWpVwUByB3"
      }
    },
    {
      "cell_type": "markdown",
      "source": [
        "Q23. How does polymorphism work in Python with inheritance?\n",
        "- Polymorphism in Python allows objects of different classes (that share a common parent) to be treated the same way, while still behaving differently depending on their actual class.\n",
        "- Key Concept:\n",
        "  - With inheritance, a child class overrides a method from the parent class.\n",
        "  - When you call the method on a parent-type reference, Python automatically runs the child’s version if applicable.\n",
        "  - This is known as runtime polymorphism.\n",
        "- How It Works – Bullet Points\n",
        "  1. Inheritance Relationship\n",
        "    - Multiple classes inherit from the same base (parent) class.\n",
        "    - They override the same method (same name, different behavior).\n",
        "  2. Same Interface, Different Behavior\n",
        "    - A common method (e.g., speak()) is called on different objects.\n",
        "    - Each object responds in its own way, based on its class.\n",
        "  3. Flexible Function Calls\n",
        "    - Functions or loops can work with any subclass object using the parent class type.\n",
        "    - Helps write generalized, clean, and scalable code."
      ],
      "metadata": {
        "id": "KQ2lOSDaCwaD"
      }
    },
    {
      "cell_type": "markdown",
      "source": [
        "Q24. What is method chaining in Python OOP?\n",
        "- Method chaining is a technique in Python where you call multiple methods on the same object in a single line — one after another — by ensuring each method returns self.\n",
        "- Key Concepts:\n",
        "  - What it is:\n",
        "    - A fluent interface style of programming.\n",
        "    - Makes code concise, readable, and elegant.\n",
        "    - Works by returning self from each method so the next can be called on the same object.\n",
        "- Why Use Method Chaining?\n",
        "  - Cleaner syntax — fewer lines of code.\n",
        "  - Fluent interface improves readability.\n",
        "  - Helps in builder patterns, e.g., configuring objects step by step.\n",
        "- Important Points:\n",
        "  - Each method must return self for chaining to work.\n",
        "  - Avoid chaining if methods raise exceptions or return other data types."
      ],
      "metadata": {
        "id": "3ezATTj1DbbV"
      }
    },
    {
      "cell_type": "markdown",
      "source": [
        "Q25. What is the purpose of the __call__ method in Python?\n",
        "- The __call__() method in Python allows an object to be called like a function.\n",
        "- What It Does:\n",
        "  - __call__() is a special (dunder) method.\n",
        "  - Makes an instance of a class behave like a function.\n",
        "  - Allows adding function-like behavior to objects.\n",
        "- Common Use Cases:\n",
        "  - Implementing function-like objects\n",
        "  - Creating custom decorators\n",
        "  - Simplifying class interfaces\n",
        "  - Useful in caching, logging, or wrapping functions\n",
        "- Important Notes:\n",
        "  - You can still call methods on the object as usual.\n",
        "  - __call__() just adds another layer of behavior when the object itself is “called”."
      ],
      "metadata": {
        "id": "WN8G6UudEkCr"
      }
    },
    {
      "cell_type": "markdown",
      "source": [
        "# Practical Questions"
      ],
      "metadata": {
        "id": "ND3ko82qFHxU"
      }
    },
    {
      "cell_type": "markdown",
      "source": [
        "Q1. Create a parent class Animal with a method speak() that prints a generic message. Create a child class Dog that overrides the speak() method to print \"Bark!\"."
      ],
      "metadata": {
        "id": "XfysAblpFMAG"
      }
    },
    {
      "cell_type": "code",
      "execution_count": 1,
      "metadata": {
        "colab": {
          "base_uri": "https://localhost:8080/"
        },
        "id": "J87X2WZ2sLu8",
        "outputId": "e2532c2f-4aa5-44c3-be7b-2e3846cb37cc"
      },
      "outputs": [
        {
          "output_type": "stream",
          "name": "stdout",
          "text": [
            "Some generic animal sound\n",
            "Bark!\n"
          ]
        }
      ],
      "source": [
        "class Animal:\n",
        "    def speak(self):\n",
        "        print(\"Some generic animal sound\")\n",
        "\n",
        "class Dog(Animal):\n",
        "    def speak(self):\n",
        "        print(\"Bark!\")\n",
        "\n",
        "# Example usage\n",
        "a = Animal()\n",
        "a.speak()\n",
        "\n",
        "d = Dog()\n",
        "d.speak()"
      ]
    },
    {
      "cell_type": "markdown",
      "source": [
        "Q2. Write a program to create an abstract class Shape with a method area(). Derive classes Circle and Rectangle from it and implement the area() method in both."
      ],
      "metadata": {
        "id": "D3TfIuN4FsGk"
      }
    },
    {
      "cell_type": "code",
      "source": [
        "from abc import ABC, abstractmethod\n",
        "import math\n",
        "\n",
        "# Abstract class\n",
        "class Shape(ABC):\n",
        "    @abstractmethod\n",
        "    def area(self):\n",
        "        pass\n",
        "\n",
        "# Circle class\n",
        "class Circle(Shape):\n",
        "    def __init__(self, radius):\n",
        "        self.radius = radius\n",
        "\n",
        "    def area(self):\n",
        "        return math.pi * self.radius ** 2\n",
        "\n",
        "# Rectangle class\n",
        "class Rectangle(Shape):\n",
        "    def __init__(self, length, width):\n",
        "        self.length = length\n",
        "        self.width = width\n",
        "\n",
        "    def area(self):\n",
        "        return self.length * self.width\n",
        "\n",
        "# Example usage\n",
        "c = Circle(5)\n",
        "print(\"Circle area:\", c.area())\n",
        "\n",
        "r = Rectangle(4, 6)\n",
        "print(\"Rectangle area:\", r.area())\n"
      ],
      "metadata": {
        "colab": {
          "base_uri": "https://localhost:8080/"
        },
        "id": "uNCb4zJYF3wk",
        "outputId": "9cb717eb-3225-4819-f413-920f007e0040"
      },
      "execution_count": 2,
      "outputs": [
        {
          "output_type": "stream",
          "name": "stdout",
          "text": [
            "Circle area: 78.53981633974483\n",
            "Rectangle area: 24\n"
          ]
        }
      ]
    },
    {
      "cell_type": "markdown",
      "source": [
        "Q3. Implement a multi-level inheritance scenario where a class Vehicle has an attribute type. Derive a class Car and further derive a class ElectricCar that adds a battery attribute."
      ],
      "metadata": {
        "id": "jtzWohjiF-3D"
      }
    },
    {
      "cell_type": "code",
      "source": [
        "# Base class\n",
        "class Vehicle:\n",
        "    def __init__(self, type):\n",
        "        self.type = type\n",
        "\n",
        "# Derived class\n",
        "class Car(Vehicle):\n",
        "    def __init__(self, type, brand):\n",
        "        super().__init__(type)\n",
        "        self.brand = brand\n",
        "\n",
        "# Further derived class\n",
        "class ElectricCar(Car):\n",
        "    def __init__(self, type, brand, battery):\n",
        "        super().__init__(type, brand)\n",
        "        self.battery = battery\n",
        "\n",
        "# Example usage\n",
        "ecar = ElectricCar(\"4-wheeler\", \"Tesla\", \"100 kWh\")\n",
        "print(\"Type:\", ecar.type)\n",
        "print(\"Brand:\", ecar.brand)\n",
        "print(\"Battery:\", ecar.battery)"
      ],
      "metadata": {
        "colab": {
          "base_uri": "https://localhost:8080/"
        },
        "id": "h3NfmyAqGHXs",
        "outputId": "eb947d44-f174-4e16-c350-1a8a77b0bbbf"
      },
      "execution_count": 3,
      "outputs": [
        {
          "output_type": "stream",
          "name": "stdout",
          "text": [
            "Type: 4-wheeler\n",
            "Brand: Tesla\n",
            "Battery: 100 kWh\n"
          ]
        }
      ]
    },
    {
      "cell_type": "markdown",
      "source": [
        "Q4. Demonstrate polymorphism by creating a base class Bird with a method fly(). Create two derived classes Sparrow and Penguin that override the fly() method."
      ],
      "metadata": {
        "id": "SV2mxzJ0GMOF"
      }
    },
    {
      "cell_type": "code",
      "source": [
        "class Bird:\n",
        "    def fly(self):\n",
        "        print(\"Some bird is flying\")\n",
        "\n",
        "class Sparrow(Bird):\n",
        "    def fly(self):\n",
        "        print(\"Sparrow flies high\")\n",
        "\n",
        "class Penguin(Bird):\n",
        "    def fly(self):\n",
        "        print(\"Penguin can't fly\")\n",
        "\n",
        "# Polymorphism in action\n",
        "birds = [Sparrow(), Penguin()]\n",
        "\n",
        "for bird in birds:\n",
        "    bird.fly()"
      ],
      "metadata": {
        "colab": {
          "base_uri": "https://localhost:8080/"
        },
        "id": "QczYnbcOGPdU",
        "outputId": "17c109bd-3d93-4a32-ce1d-5381ed854c14"
      },
      "execution_count": 4,
      "outputs": [
        {
          "output_type": "stream",
          "name": "stdout",
          "text": [
            "Sparrow flies high\n",
            "Penguin can't fly\n"
          ]
        }
      ]
    },
    {
      "cell_type": "markdown",
      "source": [
        "Q5. Write a program to demonstrate encapsulation by creating a class BankAccount with private attributes balance and methods to deposit, withdraw, and check balance."
      ],
      "metadata": {
        "id": "T9C8UfpaGact"
      }
    },
    {
      "cell_type": "code",
      "source": [
        "class BankAccount:\n",
        "    def __init__(self, initial_balance=0):\n",
        "        self.__balance = initial_balance\n",
        "\n",
        "    def deposit(self, amount):\n",
        "        if amount > 0:\n",
        "            self.__balance += amount\n",
        "\n",
        "    def withdraw(self, amount):\n",
        "        if 0 < amount <= self.__balance:\n",
        "            self.__balance -= amount\n",
        "        else:\n",
        "            print(\"Insufficient balance\")\n",
        "\n",
        "    def check_balance(self):\n",
        "        return self.__balance\n",
        "\n",
        "# Example usage\n",
        "account = BankAccount(1000)\n",
        "account.deposit(500)\n",
        "account.withdraw(300)\n",
        "print(\"Current Balance:\", account.check_balance())"
      ],
      "metadata": {
        "colab": {
          "base_uri": "https://localhost:8080/"
        },
        "id": "PWZTB9TPGf-j",
        "outputId": "bb67c11d-cf1b-41a0-dffb-e0f4a40a485c"
      },
      "execution_count": 5,
      "outputs": [
        {
          "output_type": "stream",
          "name": "stdout",
          "text": [
            "Current Balance: 1200\n"
          ]
        }
      ]
    },
    {
      "cell_type": "markdown",
      "source": [
        "Q6. Demonstrate runtime polymorphism using a method play() in a base class Instrument. Derive classes Guitar and Piano that implement their own version of play()."
      ],
      "metadata": {
        "id": "pMT6jdSxGk0b"
      }
    },
    {
      "cell_type": "code",
      "source": [
        "class Instrument:\n",
        "    def play(self):\n",
        "        print(\"Playing an instrument\")\n",
        "\n",
        "class Guitar(Instrument):\n",
        "    def play(self):\n",
        "        print(\"Strumming the guitar\")\n",
        "\n",
        "class Piano(Instrument):\n",
        "    def play(self):\n",
        "        print(\"Playing the piano\")\n",
        "\n",
        "# Runtime polymorphism\n",
        "instruments = [Guitar(), Piano()]\n",
        "\n",
        "for instrument in instruments:\n",
        "    instrument.play()"
      ],
      "metadata": {
        "colab": {
          "base_uri": "https://localhost:8080/"
        },
        "id": "36x05tXEGqkc",
        "outputId": "db42735a-2064-4e55-e2c4-ddd903e532bf"
      },
      "execution_count": 6,
      "outputs": [
        {
          "output_type": "stream",
          "name": "stdout",
          "text": [
            "Strumming the guitar\n",
            "Playing the piano\n"
          ]
        }
      ]
    },
    {
      "cell_type": "markdown",
      "source": [
        "Q7. Create a class MathOperations with a class method add_numbers() to add two numbers and a static method subtract_numbers() to subtract two numbers."
      ],
      "metadata": {
        "id": "CEXnBKPLGu61"
      }
    },
    {
      "cell_type": "code",
      "source": [
        "class MathOperations:\n",
        "    @classmethod\n",
        "    def add_numbers(cls, a, b):\n",
        "        return a + b\n",
        "\n",
        "    @staticmethod\n",
        "    def subtract_numbers(a, b):\n",
        "        return a - b\n",
        "\n",
        "# Example usage\n",
        "print(\"Addition:\", MathOperations.add_numbers(10, 5))\n",
        "print(\"Subtraction:\", MathOperations.subtract_numbers(10, 5))"
      ],
      "metadata": {
        "colab": {
          "base_uri": "https://localhost:8080/"
        },
        "id": "mVmWVzrWG33l",
        "outputId": "0bed4a97-eeec-499b-ec08-f5a6006c298b"
      },
      "execution_count": 7,
      "outputs": [
        {
          "output_type": "stream",
          "name": "stdout",
          "text": [
            "Addition: 15\n",
            "Subtraction: 5\n"
          ]
        }
      ]
    },
    {
      "cell_type": "markdown",
      "source": [
        "Q8. Implement a class Person with a class method to count the total number of persons created."
      ],
      "metadata": {
        "id": "Mhp6wM00G5js"
      }
    },
    {
      "cell_type": "code",
      "source": [
        "class Person:\n",
        "    count = 0\n",
        "\n",
        "    def __init__(self, name):\n",
        "        self.name = name\n",
        "        Person.count += 1\n",
        "\n",
        "    @classmethod\n",
        "    def total_persons(cls):\n",
        "        return cls.count\n",
        "\n",
        "# Example usage\n",
        "p1 = Person(\"Alice\")\n",
        "p2 = Person(\"Bob\")\n",
        "p3 = Person(\"Charlie\")\n",
        "\n",
        "print(\"Total persons created:\", Person.total_persons())"
      ],
      "metadata": {
        "colab": {
          "base_uri": "https://localhost:8080/"
        },
        "id": "JgRHZ5mxHBrl",
        "outputId": "92a0c7e0-10f7-4113-c327-4745beb1693a"
      },
      "execution_count": 8,
      "outputs": [
        {
          "output_type": "stream",
          "name": "stdout",
          "text": [
            "Total persons created: 3\n"
          ]
        }
      ]
    },
    {
      "cell_type": "markdown",
      "source": [
        "Q9. Write a class Fraction with attributes numerator and denominator. Override the str method to display the fraction as \"numerator/denominator\"."
      ],
      "metadata": {
        "id": "mA1wLUFJHLW7"
      }
    },
    {
      "cell_type": "code",
      "source": [
        "class Fraction:\n",
        "    def __init__(self, numerator, denominator):\n",
        "        self.numerator = numerator\n",
        "        self.denominator = denominator\n",
        "\n",
        "    def __str__(self):\n",
        "        return f\"{self.numerator}/{self.denominator}\"\n",
        "\n",
        "# Example usage\n",
        "f = Fraction(3, 4)\n",
        "print(f)"
      ],
      "metadata": {
        "colab": {
          "base_uri": "https://localhost:8080/"
        },
        "id": "JS_1CMVFHGWk",
        "outputId": "35e9bec9-a18a-433b-bbb9-4650a4612f36"
      },
      "execution_count": 9,
      "outputs": [
        {
          "output_type": "stream",
          "name": "stdout",
          "text": [
            "3/4\n"
          ]
        }
      ]
    },
    {
      "cell_type": "markdown",
      "source": [
        "Q10. Demonstrate operator overloading by creating a class Vector and overriding the add method to add two vectors."
      ],
      "metadata": {
        "id": "to707c57HUWJ"
      }
    },
    {
      "cell_type": "code",
      "source": [
        "class Vector:\n",
        "    def __init__(self, x, y):\n",
        "        self.x = x\n",
        "        self.y = y\n",
        "\n",
        "    def __add__(self, other):\n",
        "        return Vector(self.x + other.x, self.y + other.y)\n",
        "\n",
        "    def __str__(self):\n",
        "        return f\"({self.x}, {self.y})\"\n",
        "\n",
        "# Example usage\n",
        "v1 = Vector(2, 3)\n",
        "v2 = Vector(4, 5)\n",
        "v3 = v1 + v2\n",
        "print(v3)"
      ],
      "metadata": {
        "colab": {
          "base_uri": "https://localhost:8080/"
        },
        "id": "ZIRLkD8DHY78",
        "outputId": "8ef03834-855b-4a10-86e3-94a78063833e"
      },
      "execution_count": 10,
      "outputs": [
        {
          "output_type": "stream",
          "name": "stdout",
          "text": [
            "(6, 8)\n"
          ]
        }
      ]
    },
    {
      "cell_type": "markdown",
      "source": [
        "Q11. Create a class Person with attributes name and age. Add a method greet() that prints \"Hello, my name is {name} and I am {age} years old.\""
      ],
      "metadata": {
        "id": "gZQUW9xdHURM"
      }
    },
    {
      "cell_type": "code",
      "source": [
        "class Person:\n",
        "    def __init__(self, name, age):\n",
        "        self.name = name\n",
        "        self.age = age\n",
        "\n",
        "    def greet(self):\n",
        "        print(f\"Hello, my name is {self.name} and I am {self.age} years old.\")\n",
        "\n",
        "# Example usage\n",
        "p = Person(\"Siddharth\", 25)\n",
        "p.greet()"
      ],
      "metadata": {
        "colab": {
          "base_uri": "https://localhost:8080/"
        },
        "id": "kxxc3IOQHoDc",
        "outputId": "5720801b-5569-42d3-e36d-58fbe57c56f2"
      },
      "execution_count": 19,
      "outputs": [
        {
          "output_type": "stream",
          "name": "stdout",
          "text": [
            "Hello, my name is Siddharth and I am 25 years old.\n"
          ]
        }
      ]
    },
    {
      "cell_type": "markdown",
      "source": [
        "Q12. Implement a class Student with attributes name and grades. Create a method average_grade() to compute the average of the grades."
      ],
      "metadata": {
        "id": "0yqgOCNfHvA1"
      }
    },
    {
      "cell_type": "code",
      "source": [
        "class Student:\n",
        "    def __init__(self, name, grades):\n",
        "        self.name = name\n",
        "        self.grades = grades\n",
        "\n",
        "    def average_grade(self):\n",
        "        return sum(self.grades) / len(self.grades)\n",
        "\n",
        "# Example usage\n",
        "s = Student(\"John\", [85, 90, 78])\n",
        "print(f\"{s.name}'s average grade is:\", s.average_grade())"
      ],
      "metadata": {
        "colab": {
          "base_uri": "https://localhost:8080/"
        },
        "id": "BepU45VXH06P",
        "outputId": "19d689aa-e834-4080-ad39-144c0cebd886"
      },
      "execution_count": 12,
      "outputs": [
        {
          "output_type": "stream",
          "name": "stdout",
          "text": [
            "John's average grade is: 84.33333333333333\n"
          ]
        }
      ]
    },
    {
      "cell_type": "markdown",
      "source": [
        "Q13. Create a class Rectangle with methods set_dimensions() to set the dimensions and area() to calculate the area."
      ],
      "metadata": {
        "id": "ICD0blrvH7LS"
      }
    },
    {
      "cell_type": "code",
      "source": [
        "class Rectangle:\n",
        "    def set_dimensions(self, length, width):\n",
        "        self.length = length\n",
        "        self.width = width\n",
        "\n",
        "    def area(self):\n",
        "        return self.length * self.width\n",
        "\n",
        "# Example usage\n",
        "r = Rectangle()\n",
        "r.set_dimensions(5, 3)\n",
        "print(\"Area:\", r.area())"
      ],
      "metadata": {
        "colab": {
          "base_uri": "https://localhost:8080/"
        },
        "id": "ZDygwAZlIBQ-",
        "outputId": "cb096fdc-385a-4fcc-e077-9c681dbe66f1"
      },
      "execution_count": 13,
      "outputs": [
        {
          "output_type": "stream",
          "name": "stdout",
          "text": [
            "Area: 15\n"
          ]
        }
      ]
    },
    {
      "cell_type": "markdown",
      "source": [
        "Q14. Create a class Employee with a method calculate_salary() that computes the salary based on hours worked and hourly rate. Create a derived class Manager that adds a bonus to the salary."
      ],
      "metadata": {
        "id": "D6fnMc-4H7Dl"
      }
    },
    {
      "cell_type": "code",
      "source": [
        "class Employee:\n",
        "    def __init__(self, hours_worked, hourly_rate):\n",
        "        self.hours_worked = hours_worked\n",
        "        self.hourly_rate = hourly_rate\n",
        "\n",
        "    def calculate_salary(self):\n",
        "        return self.hours_worked * self.hourly_rate\n",
        "\n",
        "class Manager(Employee):\n",
        "    def __init__(self, hours_worked, hourly_rate, bonus):\n",
        "        super().__init__(hours_worked, hourly_rate)\n",
        "        self.bonus = bonus\n",
        "\n",
        "    def calculate_salary(self):\n",
        "        return super().calculate_salary() + self.bonus\n",
        "\n",
        "# Example usage\n",
        "e = Employee(40, 20)\n",
        "print(\"Employee Salary:\", e.calculate_salary())\n",
        "\n",
        "m = Manager(40, 20, 500)\n",
        "print(\"Manager Salary:\", m.calculate_salary())"
      ],
      "metadata": {
        "colab": {
          "base_uri": "https://localhost:8080/"
        },
        "id": "GjFC9N17IOSP",
        "outputId": "b6c9221c-ce92-4af2-caec-178050177c4f"
      },
      "execution_count": 14,
      "outputs": [
        {
          "output_type": "stream",
          "name": "stdout",
          "text": [
            "Employee Salary: 800\n",
            "Manager Salary: 1300\n"
          ]
        }
      ]
    },
    {
      "cell_type": "markdown",
      "source": [
        "Q15. Create a class Product with attributes name, price, and quantity. Implement a method total_price() that calculates the total price of the product."
      ],
      "metadata": {
        "id": "9dyGJJPIIUoi"
      }
    },
    {
      "cell_type": "code",
      "source": [
        "class Product:\n",
        "    def __init__(self, name, price, quantity):\n",
        "        self.name = name\n",
        "        self.price = price\n",
        "        self.quantity = quantity\n",
        "\n",
        "    def total_price(self):\n",
        "        return self.price * self.quantity\n",
        "\n",
        "# Example usage\n",
        "p = Product(\"Laptop\", 50000, 2)\n",
        "print(\"Total Price:\", p.total_price())"
      ],
      "metadata": {
        "colab": {
          "base_uri": "https://localhost:8080/"
        },
        "id": "TjY5tNXLIa4X",
        "outputId": "c46af0ac-19a4-40ac-9b1e-36b46ba747e9"
      },
      "execution_count": 15,
      "outputs": [
        {
          "output_type": "stream",
          "name": "stdout",
          "text": [
            "Total Price: 100000\n"
          ]
        }
      ]
    },
    {
      "cell_type": "markdown",
      "source": [
        "Q16. Create a class Animal with an abstract method sound(). Create two derived classes Cow and Sheep that implement the sound() method."
      ],
      "metadata": {
        "id": "zM_DhToNIUjE"
      }
    },
    {
      "cell_type": "code",
      "source": [
        "from abc import ABC, abstractmethod\n",
        "\n",
        "class Animal(ABC):\n",
        "    @abstractmethod\n",
        "    def sound(self):\n",
        "        pass\n",
        "\n",
        "class Cow(Animal):\n",
        "    def sound(self):\n",
        "        print(\"Moo\")\n",
        "\n",
        "class Sheep(Animal):\n",
        "    def sound(self):\n",
        "        print(\"Baa\")\n",
        "\n",
        "# Example usage\n",
        "c = Cow()\n",
        "c.sound()\n",
        "\n",
        "s = Sheep()\n",
        "s.sound()"
      ],
      "metadata": {
        "colab": {
          "base_uri": "https://localhost:8080/"
        },
        "id": "_B8Mx4cUIj08",
        "outputId": "34f66b17-d992-4c2e-e80c-c9dd7799fbce"
      },
      "execution_count": 16,
      "outputs": [
        {
          "output_type": "stream",
          "name": "stdout",
          "text": [
            "Moo\n",
            "Baa\n"
          ]
        }
      ]
    },
    {
      "cell_type": "markdown",
      "source": [
        "Q17. Create a class Book with attributes title, author, and year_published. Add a method get_book_info() that returns a formatted string with the book's details."
      ],
      "metadata": {
        "id": "M-EcLyrHIqQU"
      }
    },
    {
      "cell_type": "code",
      "source": [
        "class Book:\n",
        "    def __init__(self, title, author, year_published):\n",
        "        self.title = title\n",
        "        self.author = author\n",
        "        self.year_published = year_published\n",
        "\n",
        "    def get_book_info(self):\n",
        "        return f\"'{self.title}' by {self.author}, published in {self.year_published}\"\n",
        "\n",
        "# Example usage\n",
        "b = Book(\"1984\", \"George Orwell\", 1949)\n",
        "print(b.get_book_info())"
      ],
      "metadata": {
        "colab": {
          "base_uri": "https://localhost:8080/"
        },
        "id": "oR2mu36GI2dV",
        "outputId": "7500fa83-a861-45c8-ddd2-8fd0381913ce"
      },
      "execution_count": 17,
      "outputs": [
        {
          "output_type": "stream",
          "name": "stdout",
          "text": [
            "'1984' by George Orwell, published in 1949\n"
          ]
        }
      ]
    },
    {
      "cell_type": "markdown",
      "source": [
        "Q18. Create a class House with attributes address and price. Create a derived class Mansion that adds an attribute number_of_rooms."
      ],
      "metadata": {
        "id": "qhQA3byxIqK6"
      }
    },
    {
      "cell_type": "code",
      "source": [
        "class House:\n",
        "    def __init__(self, address, price):\n",
        "        self.address = address\n",
        "        self.price = price\n",
        "\n",
        "class Mansion(House):\n",
        "    def __init__(self, address, price, number_of_rooms):\n",
        "        super().__init__(address, price)\n",
        "        self.number_of_rooms = number_of_rooms\n",
        "\n",
        "# Example usage\n",
        "m = Mansion(\"123 Elite St\", 50000000, 10)\n",
        "print(\"Address:\", m.address)\n",
        "print(\"Price:\", m.price)\n",
        "print(\"Rooms:\", m.number_of_rooms)"
      ],
      "metadata": {
        "colab": {
          "base_uri": "https://localhost:8080/"
        },
        "id": "tHp8OMy3I9Lm",
        "outputId": "1aa47c7a-b269-47cb-aa12-e3a3d234a019"
      },
      "execution_count": 18,
      "outputs": [
        {
          "output_type": "stream",
          "name": "stdout",
          "text": [
            "Address: 123 Elite St\n",
            "Price: 50000000\n",
            "Rooms: 10\n"
          ]
        }
      ]
    }
  ]
}